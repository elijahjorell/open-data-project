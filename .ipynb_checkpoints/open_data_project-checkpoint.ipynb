{
 "cells": [
  {
   "cell_type": "code",
   "execution_count": 224,
   "metadata": {},
   "outputs": [],
   "source": [
    "import matplotlib\n",
    "import matplotlib.pyplot as plt\n",
    "import numpy as np\n",
    "import pandas as pd\n",
    "import os\n",
    "from pathlib import Path\n",
    "import time\n",
    "import zipfile\n",
    "import locale\n",
    "\n",
    "pd.set_option(\"display.max_columns\", 50)\n",
    "locale.setlocale( locale.LC_ALL, '' )\n",
    "\n",
    "dtype_dict={\"DISTRICT CODE\": int, \n",
    "            \"DISTRICT NAME\": str,\n",
    "            \"PROPERTY ID\": int,\n",
    "            \"PROPERTY TYPE\": str,\n",
    "            \"PROPERTY NAME\": str,\n",
    "            \"UNIT NUMBER\": str,\n",
    "            \"HOUSE NUMBER\": str,\n",
    "            \"STREET NAME\": str,\n",
    "            \"SUBURB NAME\": str,\n",
    "            \"POSTCODE\": float,\n",
    "            \"PROPERTY DESCRIPTION\": str,\n",
    "            \"ZONE CODE\": str,\n",
    "            \"AREA\": float,\n",
    "            \"AREA TYPE\": str,\n",
    "            \"BASE DATE 1\": str,\n",
    "            \"LAND VALUE 1\": float,\n",
    "            \"AUTHORITY 1\": str,\n",
    "            \"BASIS 1\": str,\n",
    "            \"BASE DATE 2\": str,\n",
    "            \"LAND VALUE 2\": float,\n",
    "            \"AUTHORITY 2\": str,\n",
    "            \"BASIS 2\": str,\n",
    "            \"BASE DATE 3\": str,\n",
    "            \"LAND VALUE 3\": float,\n",
    "            \"AUTHORITY 3\": str,\n",
    "            \"BASIS 3\": str,\n",
    "            \"BASE DATE 4\": str,\n",
    "            \"LAND VALUE 4\": float,\n",
    "            \"AUTHORITY 4\": str,\n",
    "            \"BASIS 4\": str,\n",
    "            \"BASE DATE 5\": str,\n",
    "            \"LAND VALUE 5\": float,\n",
    "            \"AUTHORITY 5\": str,\n",
    "            \"BASIS 5\": str,\n",
    "            \"Unnamed: 34\": str}"
   ]
  },
  {
   "cell_type": "code",
   "execution_count": null,
   "metadata": {},
   "outputs": [],
   "source": [
    "# debugging \n",
    "\n",
    "# import pdb; pdb.set_trace()\n",
    "# c means continue\n",
    "# n means n\n",
    "# can type in variable names"
   ]
  },
  {
   "cell_type": "code",
   "execution_count": 184,
   "metadata": {},
   "outputs": [
    {
     "name": "stdout",
     "output_type": "stream",
     "text": [
      "0.22034430503845215\n"
     ]
    },
    {
     "data": {
      "text/html": [
       "<div>\n",
       "<style scoped>\n",
       "    .dataframe tbody tr th:only-of-type {\n",
       "        vertical-align: middle;\n",
       "    }\n",
       "\n",
       "    .dataframe tbody tr th {\n",
       "        vertical-align: top;\n",
       "    }\n",
       "\n",
       "    .dataframe thead th {\n",
       "        text-align: right;\n",
       "    }\n",
       "</style>\n",
       "<table border=\"1\" class=\"dataframe\">\n",
       "  <thead>\n",
       "    <tr style=\"text-align: right;\">\n",
       "      <th></th>\n",
       "      <th>DISTRICT CODE</th>\n",
       "      <th>DISTRICT NAME</th>\n",
       "      <th>PROPERTY ID</th>\n",
       "      <th>PROPERTY TYPE</th>\n",
       "      <th>PROPERTY NAME</th>\n",
       "      <th>UNIT NUMBER</th>\n",
       "      <th>HOUSE NUMBER</th>\n",
       "      <th>STREET NAME</th>\n",
       "      <th>SUBURB NAME</th>\n",
       "      <th>POSTCODE</th>\n",
       "      <th>PROPERTY DESCRIPTION</th>\n",
       "      <th>ZONE CODE</th>\n",
       "      <th>AREA</th>\n",
       "      <th>AREA TYPE</th>\n",
       "      <th>BASE DATE 1</th>\n",
       "      <th>LAND VALUE 1</th>\n",
       "      <th>AUTHORITY 1</th>\n",
       "      <th>BASIS 1</th>\n",
       "      <th>BASE DATE 2</th>\n",
       "      <th>LAND VALUE 2</th>\n",
       "      <th>AUTHORITY 2</th>\n",
       "      <th>BASIS 2</th>\n",
       "      <th>BASE DATE 3</th>\n",
       "      <th>LAND VALUE 3</th>\n",
       "      <th>AUTHORITY 3</th>\n",
       "      <th>BASIS 3</th>\n",
       "      <th>BASE DATE 4</th>\n",
       "      <th>LAND VALUE 4</th>\n",
       "      <th>AUTHORITY 4</th>\n",
       "      <th>BASIS 4</th>\n",
       "      <th>BASE DATE 5</th>\n",
       "      <th>LAND VALUE 5</th>\n",
       "      <th>AUTHORITY 5</th>\n",
       "      <th>BASIS 5</th>\n",
       "      <th>Unnamed: 34</th>\n",
       "    </tr>\n",
       "  </thead>\n",
       "  <tbody>\n",
       "    <tr>\n",
       "      <th>3239</th>\n",
       "      <td>1</td>\n",
       "      <td>CESSNOCK</td>\n",
       "      <td>142</td>\n",
       "      <td>NORMAL</td>\n",
       "      <td>NaN</td>\n",
       "      <td>NaN</td>\n",
       "      <td>67A</td>\n",
       "      <td>ABERDARE RD</td>\n",
       "      <td>ABERDARE</td>\n",
       "      <td>2325.0</td>\n",
       "      <td>1, 2, 3, 4/43/758002</td>\n",
       "      <td>R2</td>\n",
       "      <td>4046.80</td>\n",
       "      <td>M</td>\n",
       "      <td>01/07/2016</td>\n",
       "      <td>428000.0</td>\n",
       "      <td>14A(1)</td>\n",
       "      <td>6A(1)</td>\n",
       "      <td>01/07/2015</td>\n",
       "      <td>391000.0</td>\n",
       "      <td>14A(1)</td>\n",
       "      <td>6A(1)</td>\n",
       "      <td>01/07/2014</td>\n",
       "      <td>380000.0</td>\n",
       "      <td>14A(1)</td>\n",
       "      <td>6A(1)</td>\n",
       "      <td>01/07/2013</td>\n",
       "      <td>380000.0</td>\n",
       "      <td>14A(1)</td>\n",
       "      <td>6A(1)</td>\n",
       "      <td>01/07/2012</td>\n",
       "      <td>439000.0</td>\n",
       "      <td>14A(1)</td>\n",
       "      <td>6A(1)</td>\n",
       "      <td>NaN</td>\n",
       "    </tr>\n",
       "    <tr>\n",
       "      <th>8930</th>\n",
       "      <td>1</td>\n",
       "      <td>CESSNOCK</td>\n",
       "      <td>1667</td>\n",
       "      <td>NORMAL</td>\n",
       "      <td>NaN</td>\n",
       "      <td>NaN</td>\n",
       "      <td>103</td>\n",
       "      <td>RAWSON ST</td>\n",
       "      <td>ABERDARE</td>\n",
       "      <td>2325.0</td>\n",
       "      <td>3/36/758002</td>\n",
       "      <td>R2</td>\n",
       "      <td>1011.83</td>\n",
       "      <td>M</td>\n",
       "      <td>01/07/2016</td>\n",
       "      <td>134000.0</td>\n",
       "      <td>14A(1)</td>\n",
       "      <td>6A(1)</td>\n",
       "      <td>01/07/2015</td>\n",
       "      <td>134000.0</td>\n",
       "      <td>14A(1)</td>\n",
       "      <td>6A(1)</td>\n",
       "      <td>01/07/2014</td>\n",
       "      <td>127000.0</td>\n",
       "      <td>14A(1)</td>\n",
       "      <td>6A(1)</td>\n",
       "      <td>01/07/2013</td>\n",
       "      <td>125000.0</td>\n",
       "      <td>14A(1)</td>\n",
       "      <td>6A(1)</td>\n",
       "      <td>01/07/2012</td>\n",
       "      <td>121000.0</td>\n",
       "      <td>14A(1)</td>\n",
       "      <td>6A(1)</td>\n",
       "      <td>NaN</td>\n",
       "    </tr>\n",
       "    <tr>\n",
       "      <th>22538</th>\n",
       "      <td>1</td>\n",
       "      <td>CESSNOCK</td>\n",
       "      <td>3709988</td>\n",
       "      <td>NORMAL</td>\n",
       "      <td>NaN</td>\n",
       "      <td>NaN</td>\n",
       "      <td>66</td>\n",
       "      <td>ARMIDALE ST</td>\n",
       "      <td>ABERMAIN</td>\n",
       "      <td>2326.0</td>\n",
       "      <td>102/1186679</td>\n",
       "      <td>R2</td>\n",
       "      <td>483.70</td>\n",
       "      <td>M</td>\n",
       "      <td>01/07/2016</td>\n",
       "      <td>110000.0</td>\n",
       "      <td>14A(1)</td>\n",
       "      <td>6A(1)</td>\n",
       "      <td>01/07/2015</td>\n",
       "      <td>105000.0</td>\n",
       "      <td>14A(1)</td>\n",
       "      <td>6A(1)</td>\n",
       "      <td>01/07/2014</td>\n",
       "      <td>105000.0</td>\n",
       "      <td>14A(1)</td>\n",
       "      <td>6A(1)</td>\n",
       "      <td>01/07/2013</td>\n",
       "      <td>97000.0</td>\n",
       "      <td>14A(1)</td>\n",
       "      <td>6A(1)</td>\n",
       "      <td>01/07/2012</td>\n",
       "      <td>93000.0</td>\n",
       "      <td>27B</td>\n",
       "      <td>6A(1)</td>\n",
       "      <td>NaN</td>\n",
       "    </tr>\n",
       "  </tbody>\n",
       "</table>\n",
       "</div>"
      ],
      "text/plain": [
       "       DISTRICT CODE DISTRICT NAME  PROPERTY ID PROPERTY TYPE PROPERTY NAME  \\\n",
       "3239               1      CESSNOCK          142        NORMAL           NaN   \n",
       "8930               1      CESSNOCK         1667        NORMAL           NaN   \n",
       "22538              1      CESSNOCK      3709988        NORMAL           NaN   \n",
       "\n",
       "      UNIT NUMBER HOUSE NUMBER  STREET NAME SUBURB NAME  POSTCODE  \\\n",
       "3239          NaN          67A  ABERDARE RD    ABERDARE    2325.0   \n",
       "8930          NaN          103    RAWSON ST    ABERDARE    2325.0   \n",
       "22538         NaN           66  ARMIDALE ST    ABERMAIN    2326.0   \n",
       "\n",
       "       PROPERTY DESCRIPTION ZONE CODE     AREA AREA TYPE BASE DATE 1  \\\n",
       "3239   1, 2, 3, 4/43/758002        R2  4046.80         M  01/07/2016   \n",
       "8930            3/36/758002        R2  1011.83         M  01/07/2016   \n",
       "22538           102/1186679        R2   483.70         M  01/07/2016   \n",
       "\n",
       "       LAND VALUE 1 AUTHORITY 1 BASIS 1 BASE DATE 2  LAND VALUE 2 AUTHORITY 2  \\\n",
       "3239       428000.0      14A(1)   6A(1)  01/07/2015      391000.0      14A(1)   \n",
       "8930       134000.0      14A(1)   6A(1)  01/07/2015      134000.0      14A(1)   \n",
       "22538      110000.0      14A(1)   6A(1)  01/07/2015      105000.0      14A(1)   \n",
       "\n",
       "      BASIS 2 BASE DATE 3  LAND VALUE 3 AUTHORITY 3 BASIS 3 BASE DATE 4  \\\n",
       "3239    6A(1)  01/07/2014      380000.0      14A(1)   6A(1)  01/07/2013   \n",
       "8930    6A(1)  01/07/2014      127000.0      14A(1)   6A(1)  01/07/2013   \n",
       "22538   6A(1)  01/07/2014      105000.0      14A(1)   6A(1)  01/07/2013   \n",
       "\n",
       "       LAND VALUE 4 AUTHORITY 4 BASIS 4 BASE DATE 5  LAND VALUE 5 AUTHORITY 5  \\\n",
       "3239       380000.0      14A(1)   6A(1)  01/07/2012      439000.0      14A(1)   \n",
       "8930       125000.0      14A(1)   6A(1)  01/07/2012      121000.0      14A(1)   \n",
       "22538       97000.0      14A(1)   6A(1)  01/07/2012       93000.0         27B   \n",
       "\n",
       "      BASIS 5 Unnamed: 34  \n",
       "3239    6A(1)         NaN  \n",
       "8930    6A(1)         NaN  \n",
       "22538   6A(1)         NaN  "
      ]
     },
     "execution_count": 184,
     "metadata": {},
     "output_type": "execute_result"
    }
   ],
   "source": [
    "# checking structure of land value data\n",
    "zip_path = Path(\"data/land_value_data/LV_20170701.zip\")\n",
    "zf = zipfile.ZipFile(zip_path)\n",
    "start_time = time.time()\n",
    "\n",
    "test_df = pd.read_csv(zf.open(\"001_LAND_VALUE_DATA_20170701.csv\"), dtype=dtype_dict)\n",
    "\n",
    "elapsed_time = time.time() - start_time\n",
    "print(elapsed_time)\n",
    "\n",
    "test_df.sample(3)"
   ]
  },
  {
   "cell_type": "code",
   "execution_count": 206,
   "metadata": {},
   "outputs": [
    {
     "name": "stdout",
     "output_type": "stream",
     "text": [
      "LV_20190701 - 69.5326406955719\n"
     ]
    }
   ],
   "source": [
    "# aggregating land value csv files\n",
    "\n",
    "def read_csv_and_add_column(csv):\n",
    "    df = pd.read_csv(zf.open(csv), \n",
    "                     encoding=\"ISO-8859-1\", \n",
    "                     error_bad_lines=False,\n",
    "                     dtype=dtype_dict)\n",
    "    df[\"SOURCE CSV FILENAME\"] = csv\n",
    "    return df\n",
    "\n",
    "\n",
    "def get_namelist_csv_only(zf):\n",
    "    zf_list = zf.namelist()\n",
    "    csv_list = [k for k in zf_list if \".csv\" in k]\n",
    "    return csv_list\n",
    "\n",
    "\n",
    "zip_path_list = sorted(Path(\"data/land_value_data\").glob(\"**/*.zip\"))\n",
    "land_value_csv_list = sorted(Path(\"data/land_value_data\").glob(\"**/*.csv\"))\n",
    "\n",
    "# loop through all zips, if zip isn't processed then process it\n",
    "for zip_path in zip_path_list:\n",
    "    if zip_path\n",
    "    start_time = time.time()\n",
    "    \n",
    "    zf = zipfile.ZipFile(zip_path)\n",
    "     \n",
    "    zf_df = pd.concat([read_csv_and_add_column(csv) for csv in get_namelist_csv_only(zf)], sort=False)\n",
    "    zf.close()\n",
    "\n",
    "    zf_df[\"SOURCE ZIP FILENAME\"] = csv\n",
    "\n",
    "    zf_df.to_csv(Path(\"data/land_value_data/{}_combined.csv\".format(zip_path.stem)), compression=\"zip\")\n",
    "\n",
    "    elapsed_time = time.time() - start_time\n",
    "    print(zip_path.stem + \" - \" + str(elapsed_time))"
   ]
  },
  {
   "cell_type": "code",
   "execution_count": 232,
   "metadata": {},
   "outputs": [
    {
     "name": "stdout",
     "output_type": "stream",
     "text": [
      "[['$1,130.00', '$78,000,000.00'], ['$1,210.00', '$185,000,000.00'], ['$720.00', '$224,000,000.00']]\n"
     ]
    }
   ],
   "source": [
    "### MARSDEN PARK ###\n",
    "\n",
    "\n",
    "df1 = pd.read_csv(land_value_csv_list[0], compression=\"zip\", dtype=dtype_dict)\n",
    "df2 = pd.read_csv(land_value_csv_list[12], compression=\"zip\", dtype=dtype_dict)\n",
    "df3 = pd.read_csv(land_value_csv_list[24], compression=\"zip\", dtype=dtype_dict)\n",
    "\n",
    "def get_min_max_of_land_value_df(df):\n",
    "    min_land_value = locale.currency(df[\"LAND VALUE 1\"][(df[\"SUBURB NAME\"] == \"MARSDEN PARK\")].min(), grouping=True)\n",
    "    max_land_value = locale.currency(df[\"LAND VALUE 1\"][(df[\"SUBURB NAME\"] == \"MARSDEN PARK\")].max(), grouping=True)\n",
    "    return [min_land_value, max_land_value]\n",
    "\n",
    "print([get_min_max_of_land_value_df(df1),\n",
    "       get_min_max_of_land_value_df(df2),\n",
    "       get_min_max_of_land_value_df(df3)])"
   ]
  },
  {
   "cell_type": "code",
   "execution_count": 120,
   "metadata": {},
   "outputs": [
    {
     "data": {
      "text/plain": [
       "8960837810"
      ]
     },
     "execution_count": 120,
     "metadata": {},
     "output_type": "execute_result"
    }
   ],
   "source": [
    "land_value_df[\"LAND VALUE 1\"][(land_value_df[\"SUBURB NAME\"] == \"MARSDEN PARK\")].sum()"
   ]
  },
  {
   "cell_type": "code",
   "execution_count": 47,
   "metadata": {},
   "outputs": [],
   "source": [
    "# getting crime data\n",
    "crime_suburb_data_filepath = Path(\"data/SuburbData2018.csv\")\n",
    "crime_suburb_data = pd.read_csv(crime_suburb_data_filepath)"
   ]
  },
  {
   "cell_type": "code",
   "execution_count": 6,
   "metadata": {},
   "outputs": [],
   "source": [
    "# sampling data\n",
    "# crime_suburb_data.sample(10)"
   ]
  },
  {
   "cell_type": "code",
   "execution_count": 48,
   "metadata": {
    "scrolled": false
   },
   "outputs": [],
   "source": [
    "# types of offences\n",
    "unique_offence_categories = crime_suburb_data[\"Offence category\"].unique()\n",
    "# pd.Series(unique_offence_categories)"
   ]
  },
  {
   "cell_type": "code",
   "execution_count": 65,
   "metadata": {},
   "outputs": [
    {
     "data": {
      "text/plain": [
       "<matplotlib.axes._subplots.AxesSubplot at 0x2282d478390>"
      ]
     },
     "execution_count": 65,
     "metadata": {},
     "output_type": "execute_result"
    },
    {
     "data": {
      "image/png": "[encoded data removed]",
      "text/plain": [
       "<Figure size 432x288 with 1 Axes>"
      ]
     },
     "metadata": {
      "needs_background": "light"
     },
     "output_type": "display_data"
    }
   ],
   "source": [
    "# filter suburb and offence category then plot\n",
    "marsdenpark_data = crime_suburb_data[:][(crime_suburb_data[\"Suburb\"] == \"Marsden Park\") &\n",
    "                                        (crime_suburb_data[\"Offence category\"] == \"Theft\")]\n",
    "total_crimes_timeseries = marsdenpark_data.drop([\"Suburb\", \"Offence category\", \"Subcategory\"],axis = 1).sum()\n",
    "total_crimes_timeseries.plot()"
   ]
  },
  {
   "cell_type": "code",
   "execution_count": null,
   "metadata": {},
   "outputs": [],
   "source": []
  }
 ],
 "metadata": {
  "kernelspec": {
   "display_name": "Python 3",
   "language": "python",
   "name": "python3"
  },
  "language_info": {
   "codemirror_mode": {
    "name": "ipython",
    "version": 3
   },
   "file_extension": ".py",
   "mimetype": "text/x-python",
   "name": "python",
   "nbconvert_exporter": "python",
   "pygments_lexer": "ipython3",
   "version": "3.7.3"
  }
 },
 "nbformat": 4,
 "nbformat_minor": 2
}
