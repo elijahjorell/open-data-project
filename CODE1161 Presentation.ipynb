{
 "cells": [
  {
   "cell_type": "markdown",
   "metadata": {
    "slideshow": {
     "slide_type": "slide"
    }
   },
   "source": [
    "<center><h5>OPEN DATA PROJECT</h5></center>\n",
    "\n",
    "\n",
    "<center><h1>THEFT IN RESIDENTIAL DEVELOPMENTS</h1></center>\n",
    "\n",
    "<center><h1>-</h1></center>\n",
    "\n",
    "<center><small>ELIJAH ESMERO</small></center>"
   ]
  },
  {
   "cell_type": "markdown",
   "metadata": {
    "slideshow": {
     "slide_type": "slide"
    }
   },
   "source": [
    "<center><img src=\"images/raw_sydney_map.png\"></center>"
   ]
  },
  {
   "cell_type": "markdown",
   "metadata": {
    "slideshow": {
     "slide_type": "slide"
    }
   },
   "source": [
    "<center><img src=\"images/edited_sydney_map.png\"></center>"
   ]
  },
  {
   "cell_type": "markdown",
   "metadata": {
    "slideshow": {
     "slide_type": "slide"
    }
   },
   "source": [
    "<center><img src=\"images/marsdenpark_annual_progression/map_20130816.png\"></center>"
   ]
  },
  {
   "cell_type": "markdown",
   "metadata": {
    "slideshow": {
     "slide_type": "slide"
    }
   },
   "source": [
    "<center><img src=\"images/marsdenpark_annual_progression/map_20190719.png\"></center>"
   ]
  },
  {
   "cell_type": "markdown",
   "metadata": {
    "slideshow": {
     "slide_type": "slide"
    }
   },
   "source": [
    "<center><img src=\"images/marsdenpark_theft_facebookposts/theft collage.png\"></center>"
   ]
  },
  {
   "cell_type": "markdown",
   "metadata": {
    "slideshow": {
     "slide_type": "slide"
    }
   },
   "source": [
    "<center><h1>DO SUBURBS EXPERIENCE MORE THEFT AS THEY ARE BEING DEVELOPED?</h1></center>"
   ]
  },
  {
   "cell_type": "markdown",
   "metadata": {
    "slideshow": {
     "slide_type": "slide"
    }
   },
   "source": [
    "<center><h1>NUMBER OF HOUSES IN EACH SUBURB DURING EACH MONTH</h1></center>"
   ]
  },
  {
   "cell_type": "markdown",
   "metadata": {
    "slideshow": {
     "slide_type": "slide"
    }
   },
   "source": [
    "<center><img src=\"images/land_value_data_webpage.png\"></center>"
   ]
  },
  {
   "cell_type": "markdown",
   "metadata": {
    "slideshow": {
     "slide_type": "notes"
    }
   },
   "source": [
    "The \"DOWNLOADING LAND VALUE DATASET\" section contains code which will download any missing monthly datasets between JULY 2017 - JULY 2019 from the valuergeneral.nsw.gov.au website. It utilises pathlib so that it is usable on both Windows and Mac computers."
   ]
  },
  {
   "cell_type": "code",
   "execution_count": 1,
   "metadata": {
    "slideshow": {
     "slide_type": "skip"
    }
   },
   "outputs": [],
   "source": [
    "# ==============================\n",
    "# DOWNLOADING LAND VALUE DATASET\n",
    "# ==============================\n",
    "\n",
    "required_lv_zipfiles_list = [\n",
    " 'LV_20170701.zip',\n",
    " 'LV_20170801.zip',\n",
    " 'LV_20170901.zip',\n",
    " 'LV_20171001.zip',\n",
    " 'LV_20171101.zip',\n",
    " 'LV_20171201.zip',\n",
    " 'LV_20180101.zip',\n",
    " 'LV_20180201.zip',\n",
    " 'LV_20180301.zip',\n",
    " 'LV_20180401.zip',\n",
    " 'LV_20180501.zip',\n",
    " 'LV_20180601.zip',\n",
    " 'LV_20180701.zip',\n",
    " 'LV_20180801.zip',\n",
    " 'LV_20180901.zip',\n",
    " 'LV_20181001.zip',\n",
    " 'LV_20181101.zip',\n",
    " 'LV_20181201.zip',\n",
    " 'LV_20190101.zip',\n",
    " 'LV_20190201.zip',\n",
    " 'LV_20190301.zip',\n",
    " 'LV_20190401.zip',\n",
    " 'LV_20190501.zip',\n",
    " 'LV_20190601.zip',\n",
    " 'LV_20190701.zip']"
   ]
  },
  {
   "cell_type": "code",
   "execution_count": 2,
   "metadata": {
    "slideshow": {
     "slide_type": "slide"
    }
   },
   "outputs": [
    {
     "name": "stdout",
     "output_type": "stream",
     "text": [
      "All required files are downloaded\n"
     ]
    }
   ],
   "source": [
    "# ==============================\n",
    "# DOWNLOADING LAND VALUE DATASET\n",
    "# ==============================\n",
    "\n",
    "import requests\n",
    "from pathlib import Path\n",
    "\n",
    "def download_files_if_not_downloaded(required_files_list, local_directory, base_url, glob_pattern):\n",
    "    local_files_path_list = sorted(local_directory.glob(glob_pattern))\n",
    "    local_files_list = [path.name for path in local_files_path_list]\n",
    "    \n",
    "    for required_file in required_files_list:\n",
    "        if required_file not in local_files_list: \n",
    "            url = base_url + required_file\n",
    "\n",
    "            # download file from url\n",
    "            r = requests.get(url, stream = True)\n",
    "            while True:\n",
    "                if r.status_code is 200:\n",
    "                    print(\"downloading \" + required_file)\n",
    "                    with open(local_directory / required_file,\"wb\") as f:\n",
    "                        f.write(r.content)\n",
    "                    break\n",
    "\n",
    "    print(\"All required files are downloaded\")\n",
    "\n",
    "    \n",
    "local_lv_directory = Path(\"data/land_value_data\")\n",
    "\n",
    "lv_base_url = \"https://www.valuergeneral.nsw.gov.au/land_value_summaries/lvfiles/\"\n",
    "\n",
    "download_files_if_not_downloaded(required_lv_zipfiles_list,\n",
    "                                 local_lv_directory,\n",
    "                                 lv_base_url,\n",
    "                                 \"*.zip\")\n",
    "\n",
    "# revise paths of local zip files\n",
    "local_lv_zipfile_path_list = sorted(local_lv_directory.glob(\"**/*.zip\"))"
   ]
  },
  {
   "cell_type": "markdown",
   "metadata": {
    "slideshow": {
     "slide_type": "slide"
    }
   },
   "source": [
    "<center><img src=\"images/zipfile_extraction_size_difference.png\"></center>"
   ]
  },
  {
   "cell_type": "markdown",
   "metadata": {
    "slideshow": {
     "slide_type": "slide"
    }
   },
   "source": [
    "<center><img src=\"images/zipfile_contents.png\"></center>"
   ]
  },
  {
   "cell_type": "markdown",
   "metadata": {
    "slideshow": {
     "slide_type": "notes"
    }
   },
   "source": [
    "Each monthly data zipfile expands 10 times in size when uncompressed and contains 153 individual CSVs + 1 commons license txt file. So the computer's storage space isn't destroyed to make a pandas dataframes from these zipfiles, a function is used to concat all the CSVs in a zipfile without uncompressing it. The dtype_dict is a dictionary which states the data type of each column in the data, this speeds up the concat process as pandas does not have to waste resources guessing the data type of each value."
   ]
  },
  {
   "cell_type": "code",
   "execution_count": 3,
   "metadata": {
    "slideshow": {
     "slide_type": "skip"
    }
   },
   "outputs": [],
   "source": [
    "# ============================\n",
    "# ACCESSING LAND VALUE DATASET\n",
    "# ============================\n",
    "\n",
    "dtype_dict={\"DISTRICT CODE\": int, \n",
    "            \"DISTRICT NAME\": str,\n",
    "            \"PROPERTY ID\": int,\n",
    "            \"PROPERTY TYPE\": str,\n",
    "            \"PROPERTY NAME\": str,\n",
    "            \"UNIT NUMBER\": str,\n",
    "            \"HOUSE NUMBER\": str,\n",
    "            \"STREET NAME\": str,\n",
    "            \"SUBURB NAME\": str,\n",
    "            \"POSTCODE\": float,\n",
    "            \"PROPERTY DESCRIPTION\": str,\n",
    "            \"ZONE CODE\": str,\n",
    "            \"AREA\": float,\n",
    "            \"AREA TYPE\": str,\n",
    "            \"BASE DATE 1\": str,\n",
    "            \"LAND VALUE 1\": float,\n",
    "            \"AUTHORITY 1\": str,\n",
    "            \"BASIS 1\": str,\n",
    "            \"BASE DATE 2\": str,\n",
    "            \"LAND VALUE 2\": float,\n",
    "            \"AUTHORITY 2\": str,\n",
    "            \"BASIS 2\": str,\n",
    "            \"BASE DATE 3\": str,\n",
    "            \"LAND VALUE 3\": float,\n",
    "            \"AUTHORITY 3\": str,\n",
    "            \"BASIS 3\": str,\n",
    "            \"BASE DATE 4\": str,\n",
    "            \"LAND VALUE 4\": float,\n",
    "            \"AUTHORITY 4\": str,\n",
    "            \"BASIS 4\": str,\n",
    "            \"BASE DATE 5\": str,\n",
    "            \"LAND VALUE 5\": float,\n",
    "            \"AUTHORITY 5\": str,\n",
    "            \"BASIS 5\": str,\n",
    "            \"Unnamed: 34\": str}"
   ]
  },
  {
   "cell_type": "code",
   "execution_count": null,
   "metadata": {
    "slideshow": {
     "slide_type": "slide"
    }
   },
   "outputs": [],
   "source": [
    "# ============================\n",
    "# ACCESSING LAND VALUE DATASET\n",
    "# ============================\n",
    "\n",
    "import zipfile\n",
    "import pandas as pd\n",
    "\n",
    "def concat_all_csv_in_zipfile_into_one_df(zipfile_path):\n",
    "    with zipfile.ZipFile(zipfile_path) as zip:\n",
    "        csv_in_zipfile_list = [name for name in zip.namelist() if name.endswith('.csv')] # to only get csv files\n",
    "        df = pd.concat([pd.read_csv(zip.open(csv),\n",
    "                                    encoding=\"ISO-8859-1\",\n",
    "                                    error_bad_lines=False,\n",
    "                                    dtype=dtype_dict) for csv in csv_in_zipfile_list], sort=False)\n",
    "    return df\n",
    "\n",
    "lv_data_201907 = concat_all_csv_in_zipfile_into_one_df(local_lv_zipfile_path_list[-1])\n",
    "lv_data_201907"
   ]
  },
  {
   "cell_type": "markdown",
   "metadata": {
    "slideshow": {
     "slide_type": "slide"
    }
   },
   "source": [
    "<center><h1>HOW DO I KNOW THAT THE LAND LISTING IS FOR A HOUSE?</h1></center>"
   ]
  },
  {
   "cell_type": "markdown",
   "metadata": {
    "slideshow": {
     "slide_type": "notes"
    }
   },
   "source": [
    "Land value was the initial canditate to determine whether or not a land listing is for a house. The rationale was that the value of house land listings are between x and y dollar figures. However this is not the case as house land varies in cost depending on location i.e. land in Mosman or City of Sydney will be more expensive than land out west in Mount Druitt. Also land value fluctuates with the market hence will not provide an accurate estimate for house counts across different months."
   ]
  },
  {
   "cell_type": "markdown",
   "metadata": {
    "slideshow": {
     "slide_type": "skip"
    }
   },
   "source": [
    "- ## ~~LAND VALUE~~\n"
   ]
  },
  {
   "cell_type": "markdown",
   "metadata": {
    "slideshow": {
     "slide_type": "notes"
    }
   },
   "source": [
    "Property name and land area were found to be more accurate fields to determine whether or not a land listing is a house. Land listings with a property name were found to be commercial or council properties such as ' BICENTENNIAL FLORA PARK' & ' KENDALL RESERVE'. This was futher investigated by comparing histograms of land area for listings with a property name versus those without. Those without a property name clustered around 700 m2 land area which is the standard house lot size in Sydney with millions of land listings in that cluster. Those with a property names were more spread out and only reached a max of 3000 in a bin. This makes sense as there are far more houses than commercial (and other) properties."
   ]
  },
  {
   "cell_type": "markdown",
   "metadata": {
    "slideshow": {
     "slide_type": "skip"
    }
   },
   "source": [
    "- ## PROPERTY NAME\n",
    "- ## LAND AREA"
   ]
  },
  {
   "cell_type": "code",
   "execution_count": null,
   "metadata": {
    "slideshow": {
     "slide_type": "skip"
    }
   },
   "outputs": [],
   "source": [
    "# ===============================================\n",
    "# DETERMINING CRITERIA FOR A HOUSE: PROPERTY NAME\n",
    "# ===============================================\n",
    "\n",
    "sorted(lv_data_201907[\"PROPERTY NAME\"][~lv_data_201907[\"PROPERTY NAME\"].isnull()].unique())"
   ]
  },
  {
   "cell_type": "code",
   "execution_count": null,
   "metadata": {
    "slideshow": {
     "slide_type": "slide"
    }
   },
   "outputs": [],
   "source": [
    "# ===========================================\n",
    "# DETERMINING CRITERIA FOR A HOUSE: LAND AREA\n",
    "# ===========================================\n",
    "\n",
    "import matplotlib\n",
    "import matplotlib.pyplot as plt\n",
    "import numpy as np\n",
    "\n",
    "plt.figure(figsize=(10,5))\n",
    "\n",
    "lv_data_201907_area_hist = lv_data_201907[\"AREA\"][(lv_data_201907[\"AREA TYPE\"] == \"M\") & \\\n",
    "                                                  ~lv_data_201907[\"PROPERTY NAME\"].isnull()].hist(range=(0,5000), bins=25)\n",
    "plt.xlabel(\"LAND AREA (M^2)\")\n",
    "plt.ylabel(\"FREQUENCY\")\n",
    "plt.title(\"DISTRIBUTION OF LAND AREA OF LAND LISTINGS IN NSW WITH A PROPERTY NAME FIELD\")\n",
    "\n",
    "\n",
    "# format axes\n",
    "lv_data_201907_area_hist.get_xaxis().set_major_formatter(matplotlib.ticker.FuncFormatter(lambda x, p: format(int(x), ',')))\n",
    "lv_data_201907_area_hist.get_yaxis().set_major_formatter(matplotlib.ticker.FuncFormatter(lambda x, p: format(int(x), ',')))"
   ]
  },
  {
   "cell_type": "code",
   "execution_count": null,
   "metadata": {
    "slideshow": {
     "slide_type": "slide"
    }
   },
   "outputs": [],
   "source": [
    "# ===========================================\n",
    "# DETERMINING CRITERIA FOR A HOUSE: LAND AREA\n",
    "# ===========================================\n",
    "\n",
    "plt.figure(figsize=(10,5))\n",
    "\n",
    "lv_data_201907_area_hist = lv_data_201907[\"AREA\"][(lv_data_201907[\"AREA TYPE\"] == \"M\") & \\\n",
    "                                                  lv_data_201907[\"PROPERTY NAME\"].isnull()].hist(range=(0,5000), bins=25)\n",
    "plt.xlabel(\"LAND AREA (M^2)\")\n",
    "plt.ylabel(\"FREQUENCY\")\n",
    "plt.title(\"DISTRIBUTION OF LAND AREA OF LAND LISTINGS IN NSW WITHOUT A PROPERTY NAME FIELD\")\n",
    "\n",
    "# format axes\n",
    "lv_data_201907_area_hist.get_xaxis().set_major_formatter(matplotlib.ticker.FuncFormatter(lambda x, p: format(int(x), ',')))\n",
    "lv_data_201907_area_hist.get_yaxis().set_major_formatter(matplotlib.ticker.FuncFormatter(lambda x, p: format(int(x), ',')))"
   ]
  },
  {
   "cell_type": "markdown",
   "metadata": {
    "slideshow": {
     "slide_type": "notes"
    }
   },
   "source": [
    "A function was written to get the house counts of suburbs, filtering for land listings without a property name and a land area between 200m2 and 1000m2. This same function was applied to every monthly data set, generating a single dataframe. The data of Marsden Park was tested and the results match expectations and aerial mapping snapshots."
   ]
  },
  {
   "cell_type": "code",
   "execution_count": null,
   "metadata": {
    "scrolled": true,
    "slideshow": {
     "slide_type": "slide"
    }
   },
   "outputs": [],
   "source": [
    "# ===================================\n",
    "# AGGREGATING SUBURB HOUSE COUNT DATA\n",
    "# ===================================\n",
    "\n",
    "def get_suburb_house_count_from_lv_dataset(lv_dataset):\n",
    "    suburb_house_count = lv_dataset[lv_dataset[\"PROPERTY NAME\"].isnull() & \\\n",
    "                                                 (lv_dataset[\"AREA TYPE\"] == \"M\") & \\\n",
    "                                                 (lv_dataset[\"AREA\"] > 200) & \\\n",
    "                                                 (lv_dataset[\"AREA\"] < 1000)].groupby(\"SUBURB NAME\").count().max(axis=1)\n",
    "    return suburb_house_count\n",
    "    \n",
    "get_suburb_house_count_from_lv_dataset(lv_data_201907)"
   ]
  },
  {
   "cell_type": "code",
   "execution_count": null,
   "metadata": {
    "scrolled": true,
    "slideshow": {
     "slide_type": "slide"
    }
   },
   "outputs": [],
   "source": [
    "# ===================================\n",
    "# AGGREGATING SUBURB HOUSE COUNT DATA\n",
    "# ===================================\n",
    "\n",
    "import time\n",
    "\n",
    "start_time = time.time()\n",
    "\n",
    "# get the house count for all monthly data\n",
    "NSW_suburb_house_count_df = pd.concat([get_suburb_house_count_from_lv_dataset(concat_all_csv_in_zipfile_into_one_df(local_zipfile)) \\\n",
    "                                       for local_zipfile in local_lv_zipfile_path_list], sort=False, axis=1)\n",
    "\n",
    "elapsed_time = time.time() - start_time\n",
    "print(\"This function took \" + str(elapsed_time) + \" seconds\")\n",
    "\n",
    "NSW_suburb_house_count_df"
   ]
  },
  {
   "cell_type": "code",
   "execution_count": null,
   "metadata": {
    "scrolled": true,
    "slideshow": {
     "slide_type": "skip"
    }
   },
   "outputs": [],
   "source": [
    "# ========================\n",
    "# MARSDEN PARK HOUSE COUNT\n",
    "# ========================\n",
    "\n",
    "plt.figure(figsize=(10,5))\n",
    "\n",
    "marsdenpark_house_count_timeseries_plot = NSW_suburb_house_count_df.loc[\"MARSDEN PARK\"].plot()\n",
    "\n",
    "# format graph\n",
    "plt.xlabel(\"MONTHS SINCE JULY 2017\")\n",
    "plt.ylabel(\"NUMBER OF HOUSES\")\n",
    "plt.title(\"HOUSE COUNT OF MARSDEN PARK SINCE JULY 2017\")\n",
    "marsdenpark_house_count_timeseries_plot.get_yaxis().set_major_formatter(matplotlib.ticker.FuncFormatter(lambda x, p: format(int(x), ',')))"
   ]
  },
  {
   "cell_type": "markdown",
   "metadata": {
    "slideshow": {
     "slide_type": "slide"
    }
   },
   "source": [
    "<center><h1>NUMBER OF THEFTS IN EACH SUBURB FOR EACH MONTH</h1></center>"
   ]
  },
  {
   "cell_type": "markdown",
   "metadata": {
    "slideshow": {
     "slide_type": "notes"
    }
   },
   "source": [
    "The same functions used to download and access the land value data were used to download and access the crime data. The crime data contains the monthly count for each crime category and crime category in the suburbs of NSW. The listings were filtered, keeping only listings with theft crimes related to houses. The data for marsden park was checked and the results again matched expectations. "
   ]
  },
  {
   "cell_type": "markdown",
   "metadata": {
    "slideshow": {
     "slide_type": "slide"
    }
   },
   "source": [
    "<center><img src=\"images/crime_data_webpage.png\"></center>"
   ]
  },
  {
   "cell_type": "code",
   "execution_count": null,
   "metadata": {
    "slideshow": {
     "slide_type": "slide"
    }
   },
   "outputs": [],
   "source": [
    "# =========================\n",
    "# DOWNLOADING CRIME DATASET\n",
    "# =========================\n",
    "\n",
    "required_crime_zipfile = [\"SuburbData.zip\"]\n",
    "\n",
    "crime_local_directory = Path(\"data\")\n",
    "\n",
    "crime_base_url = \"https://www.bocsar.nsw.gov.au/Documents/Datasets/\"\n",
    "\n",
    "download_files_if_not_downloaded(required_crime_zipfile,\n",
    "                                 crime_local_directory,\n",
    "                                 crime_base_url,\n",
    "                                 \"*.zip\")"
   ]
  },
  {
   "cell_type": "code",
   "execution_count": null,
   "metadata": {
    "scrolled": true,
    "slideshow": {
     "slide_type": "slide"
    }
   },
   "outputs": [],
   "source": [
    "# =======================\n",
    "# ACCESSING CRIME DATASET\n",
    "# =======================\n",
    "\n",
    "NSW_crime_df = concat_all_csv_in_zipfile_into_one_df(crime_local_directory / required_crime_zipfile[0])\n",
    "NSW_crime_df"
   ]
  },
  {
   "cell_type": "code",
   "execution_count": null,
   "metadata": {
    "slideshow": {
     "slide_type": "skip"
    }
   },
   "outputs": [],
   "source": [
    "# ==============\n",
    "# TYPES OF THEFT\n",
    "# ==============\n",
    "\n",
    "NSW_crime_df[\"Subcategory\"][NSW_crime_df[\"Offence category\"] == \"Theft\"].unique()"
   ]
  },
  {
   "cell_type": "code",
   "execution_count": null,
   "metadata": {
    "scrolled": true,
    "slideshow": {
     "slide_type": "skip"
    }
   },
   "outputs": [],
   "source": [
    "# ====================\n",
    "# ISOLATING THEFT DATA\n",
    "# ====================\n",
    "\n",
    "NSW_theft_df = NSW_crime_df[NSW_crime_df[\"Subcategory\"].str.contains(\"dwelling\")].groupby(\"Suburb\").sum()\n",
    "NSW_theft_df"
   ]
  },
  {
   "cell_type": "code",
   "execution_count": null,
   "metadata": {
    "slideshow": {
     "slide_type": "skip"
    }
   },
   "outputs": [],
   "source": [
    "# ===================\n",
    "# MARSDEN PARK THEFTS\n",
    "# ===================\n",
    "\n",
    "marsdenpark_theft_timeseries_plot = NSW_theft_df[NSW_theft_df.index == \"Marsden Park\"].transpose().plot()\n",
    "\n",
    "# format graph\n",
    "plt.xlabel(\"DATE\")\n",
    "plt.ylabel(\"MONTHLY THEFTS\")\n",
    "plt.title(\"THEFTS PER MONTH FOR MARSDEN PARK\")\n",
    "marsdenpark_house_count_timeseries_plot.get_yaxis().set_major_formatter(matplotlib.ticker.FuncFormatter(lambda x, p: format(int(x), ',')))\n"
   ]
  },
  {
   "cell_type": "markdown",
   "metadata": {
    "slideshow": {
     "slide_type": "slide"
    }
   },
   "source": [
    "<center><h1>NUMBER OF HOUSES IN EACH SUBURB FOR EACH MONTH</h1></center>\n",
    "<center><h1>+</h1></center>\n",
    "<center><h1>AMOUNT OF THEFTS IN EACH SUBURB FOR EACH MONTH </h1></center>"
   ]
  },
  {
   "cell_type": "code",
   "execution_count": null,
   "metadata": {
    "slideshow": {
     "slide_type": "slide"
    }
   },
   "outputs": [],
   "source": [
    "# ===========================================\n",
    "# CURRENT RESIDENTIAL DEVELOPMENTS TO TEST ON\n",
    "# ===========================================\n",
    "\n",
    "greenfield_development_suburb_list = [\"BOX HILL\",\n",
    "                                      \"COLEBEE\",\n",
    "                                      \"MARSDEN PARK\",\n",
    "                                      \"KELLYVILLE\",\n",
    "                                      \"RIVERSTONE\",\n",
    "                                      \"SCHOFIELDS\",\n",
    "                                      \"ROUSE HILL\",\n",
    "                                      \"VINEYARD\",\n",
    "                                      \"SCHOFIELDS\",\n",
    "                                      \"AUSTRAL\",\n",
    "                                      \"CATHERINE FIELD\",\n",
    "                                      \"EDMONDSON PARK\",\n",
    "                                      \"LEPPINGTON\",\n",
    "                                      \"ORAN PARK\"]"
   ]
  },
  {
   "cell_type": "code",
   "execution_count": null,
   "metadata": {
    "scrolled": true,
    "slideshow": {
     "slide_type": "skip"
    }
   },
   "outputs": [],
   "source": [
    "# =====================\n",
    "# ISOLATING 2018 THEFTS\n",
    "# =====================\n",
    "\n",
    "columns_to_drop = []\n",
    "\n",
    "for column in NSW_theft_df.columns:\n",
    "    if \"2018\" not in column:\n",
    "        columns_to_drop.append(column)\n",
    "        \n",
    "NSW_2018_theft_df = NSW_theft_df.drop(columns_to_drop, axis=1)\n",
    "NSW_2018_theft_df.index = [index.upper() for index in NSW_2018_theft_df.index] # index to uppercase to match house count data\n",
    "NSW_2018_theft_df"
   ]
  },
  {
   "cell_type": "code",
   "execution_count": null,
   "metadata": {
    "scrolled": true,
    "slideshow": {
     "slide_type": "skip"
    }
   },
   "outputs": [],
   "source": [
    "# ===========================\n",
    "# ISOLATING 2018 HOUSE COUNTS\n",
    "# ===========================\n",
    "\n",
    "NSW_2018_suburb_house_count_df = NSW_suburb_house_count_df.drop(list(range(6)), axis=1)\n",
    "NSW_2018_suburb_house_count_df = NSW_2018_suburb_house_count_df.drop(list(range(18, 25)), axis=1)\n",
    "NSW_2018_suburb_house_count_df.columns = NSW_2018_theft_df.columns\n",
    "NSW_2018_suburb_house_count_df"
   ]
  },
  {
   "cell_type": "code",
   "execution_count": null,
   "metadata": {
    "scrolled": true,
    "slideshow": {
     "slide_type": "skip"
    }
   },
   "outputs": [],
   "source": [
    "# ==========================================================\n",
    "# CREATING A FUNCTION TO SHOW SUBPLOTS OF CORRELATION GRAPHS\n",
    "# ==========================================================\n",
    "\n",
    "import numpy as np\n",
    "from scipy import stats\n",
    "\n",
    "def round_up_to_nearest_multiple_of_factor(x, f):\n",
    "    if x % f == 0:\n",
    "        return int(x)\n",
    "    else:\n",
    "        return int(x/f)*f + f\n",
    "\n",
    "def scatter_plot_suburb_crime_house_count(suburb_list, no_of_columns):\n",
    "    # determining fig and subplot dimensions\n",
    "    no_of_rows = round_up_to_nearest_multiple_of_factor(len(suburb_list)/no_of_columns, no_of_columns)\n",
    "    fig_width = 25\n",
    "    subplot_width = fig_width/no_of_columns\n",
    "    subplot_height = (2/3) * subplot_width  # maintains a 3:2 width-height aspect ratio\n",
    "    fig_height = no_of_rows * subplot_height\n",
    "    fig = plt.figure(figsize=(fig_width, fig_height))\n",
    "    gs = fig.add_gridspec(no_of_rows, no_of_columns)\n",
    "    \n",
    "    # create each sub plot through a loop\n",
    "    current_row = 0\n",
    "    current_column = 0\n",
    "    \n",
    "    for suburb in suburb_list:\n",
    "        s1 = NSW_2018_theft_df.loc[suburb].rename(\"CRIMES\")\n",
    "        s2 = NSW_2018_suburb_house_count_df.loc[suburb].rename(\"HOUSE COUNT\")\n",
    "\n",
    "        df1 = pd.concat([s1, s2], axis=1, sort=False)\n",
    "        plot1 = df1.plot.scatter(\"HOUSE COUNT\", \"CRIMES\", ax=fig.add_subplot(gs[current_row, current_column]))\n",
    "\n",
    "        # add polynomial n=2 trendline\n",
    "        z = np.polyfit(s2, s1, 2)\n",
    "        p = np.poly1d(z)\n",
    "        trendline_xrange = np.linspace(int(s2.min()), int(s2.max()), num=50)\n",
    "        plot1.plot(trendline_xrange, p(trendline_xrange), \"r--\")\n",
    "\n",
    "        # format\n",
    "        plt.title(suburb + \" (p = \" + \"{:.2f})\".format(stats.pearsonr(s2, s1)[0]))\n",
    "        \n",
    "        # go to next row once current row is filled\n",
    "        current_column += 1\n",
    "        if current_column == no_of_columns:\n",
    "            current_column = 0\n",
    "            current_row += 1\n",
    "            \n",
    "    plt.subplots_adjust(wspace=0.3, hspace=0.5)  # add space between subplots"
   ]
  },
  {
   "cell_type": "code",
   "execution_count": null,
   "metadata": {
    "scrolled": true,
    "slideshow": {
     "slide_type": "slide"
    }
   },
   "outputs": [],
   "source": [
    "# =========================================\n",
    "# CORRELATION GRAPHS OF THEFT VS HOUSECOUNT\n",
    "# =========================================\n",
    "\n",
    "scatter_plot_suburb_crime_house_count(greenfield_development_suburb_list, 4)"
   ]
  },
  {
   "cell_type": "markdown",
   "metadata": {
    "slideshow": {
     "slide_type": "slide"
    }
   },
   "source": [
    "<center><h1>ATTEMPTING TO ANSWER THE QUESTION IN A DIFFERENT WAY... VISUALLY</h1></center>"
   ]
  },
  {
   "cell_type": "code",
   "execution_count": null,
   "metadata": {
    "slideshow": {
     "slide_type": "skip"
    }
   },
   "outputs": [],
   "source": [
    "# =======================================\n",
    "# ALL BEN'S CODE FROM THE MAPPING LECTURE\n",
    "# =======================================\n",
    "\n",
    "import os\n",
    "import geopandas as gp\n",
    "import shapely\n",
    "import fiona\n",
    "import matplotlib\n",
    "import matplotlib.pyplot as plt\n",
    "import numpy as np\n",
    "import pandas as pd\n",
    "\n",
    "shp_file_name = \"NSW_LOCALITY_POLYGON_shp/NSW_LOCALITY_POLYGON_shp.shp\"\n",
    "zip_file_name = \"nsw_locality_polygon_shp.zip\"\n",
    "web_file_path = (\"https://data.gov.au/dataset/91e70237-d9d1-4719-a82f-e71b811154c6/resource/\"\n",
    "                 \"5e295412-357c-49a2-98d5-6caf099c2339/download/nsw_locality_polygon_shp.zip\")\n",
    "\n",
    "%matplotlib inline\n",
    "plt.rcParams['figure.figsize'] = (20, 10)\n",
    "\n",
    "def unzip_zipfile(zipped_file_path, put_it_here=\".\"):\n",
    "    import zipfile\n",
    "    zip_of_suburbs = zipfile.ZipFile(zipped_file_path, 'r')\n",
    "    zip_of_suburbs.extractall(put_it_here)\n",
    "    zip_of_suburbs.close()\n",
    "    \n",
    "# Get the data loaded. This is a bit complicated because it's online as a zip file.\n",
    "# If we don't have it right now, we need to get it and unzip it.\n",
    "if os.path.isfile(shp_file_name):\n",
    "    print(\"loading from file\")\n",
    "else:\n",
    "    if os.path.isfile(zip_file_name):\n",
    "        print(\"unzipping\")\n",
    "        unzip_zipfile(zip_file_name)\n",
    "    else:\n",
    "        import requests\n",
    "        print(\"loading from the internet\")\n",
    "        page = requests.get(web_file_path)\n",
    "        with open(zip_file_name, 'wb') as z:\n",
    "            z.write(page.content)\n",
    "        unzip_zipfile(zip_file_name)\n",
    "\n",
    "print(\"done\")\n",
    "\n",
    "burbs = gp.GeoDataFrame.from_file(shp_file_name)\n",
    "burbs.drop([\"NSW_LOCA_1\", \"NSW_LOCA_3\", \"NSW_LOCA_4\", \"DT_RETIRE\"], axis=1, inplace=True)\n",
    "\n",
    "burbs.index = burbs[\"NSW_LOCA_2\"]\n",
    "\n",
    "def add_centroid(row):\n",
    "    return row.geometry.centroid\n",
    "\n",
    "burbs[\"CENTROID\"] = burbs.apply(add_centroid, axis=1)"
   ]
  },
  {
   "cell_type": "code",
   "execution_count": null,
   "metadata": {
    "slideshow": {
     "slide_type": "skip"
    }
   },
   "outputs": [],
   "source": [
    "# =================================\n",
    "# MAKE COLOUR MAP OF THEFT IN BURBS\n",
    "# =================================\n",
    "\n",
    "def plot_data_series_for_burbs_close_to_specific_burb(specific_burb, distance, target_df, source_series, dataset_name):\n",
    "    column_name = dataset_name + \" - \" + source_series.name\n",
    "    \n",
    "    # import source_series value into target_df for indices which are present in both\n",
    "    for idx in target_df.index:\n",
    "        if idx in source_series.index:\n",
    "            target_df.loc[idx, column_name] = source_series[idx]\n",
    "        else:\n",
    "            target_df.loc[idx, column_name] = 0\n",
    "    target_df[column_name] = target_df[column_name].replace(np.nan, 0)\n",
    "    \n",
    "    # get distance of all burb centroids to specific_burb centroid\n",
    "    specific_burb_centroid = burbs.loc[specific_burb, \"CENTROID\"]\n",
    "    burbs[\"distance_from_\" + specific_burb] = burbs.geometry.distance(specific_burb_centroid)\n",
    "    \n",
    "    # only show burbs within a certain distance of specific_burb\n",
    "    close_burbs = burbs[burbs[\"distance_from_\" + specific_burb] < distance]\n",
    "    close_burbs.plot(column=column_name, cmap='cool', legend=True)\n",
    "    \n",
    "    for idx, row in close_burbs.iterrows():\n",
    "        plt.annotate(s=idx, \n",
    "                     xy=tuple(row.CENTROID.coords)[0],\n",
    "                     horizontalalignment='center')\n",
    "    \n",
    "    plt.title(specific_burb + \" - \" + column_name.upper())"
   ]
  },
  {
   "cell_type": "code",
   "execution_count": null,
   "metadata": {
    "scrolled": true,
    "slideshow": {
     "slide_type": "slide"
    }
   },
   "outputs": [],
   "source": [
    "# =================================\n",
    "# MAKE COLOUR MAP OF THEFT IN BURBS\n",
    "# =================================\n",
    "\n",
    "for greenfield_development_suburb in greenfield_development_suburb_list: \n",
    "    plot_data_series_for_burbs_close_to_specific_burb(greenfield_development_suburb, \n",
    "                                                      0.05, \n",
    "                                                      burbs, \n",
    "                                                      NSW_2018_theft_df.sum(axis=1).rename(\"2018\"), \n",
    "                                                      \"THEFT\")"
   ]
  },
  {
   "cell_type": "markdown",
   "metadata": {
    "slideshow": {
     "slide_type": "slide"
    }
   },
   "source": [
    "# CONCLUSIONS"
   ]
  },
  {
   "cell_type": "markdown",
   "metadata": {
    "slideshow": {
     "slide_type": "fragment"
    }
   },
   "source": [
    "- \"THEFT PER HOUSE\" IN A SUBURB __DOES NOT__ SEEM TO INCREASE AS THE NUMBER OF HOUSES INCREASES"
   ]
  },
  {
   "cell_type": "markdown",
   "metadata": {
    "slideshow": {
     "slide_type": "fragment"
    }
   },
   "source": [
    "- WOULD NEED MORE MONTHLY DATA AND CASES OF RESIDENTIAL DEVELOPMENTS TO PROVE DEFINITIVELY"
   ]
  },
  {
   "cell_type": "markdown",
   "metadata": {
    "slideshow": {
     "slide_type": "fragment"
    }
   },
   "source": [
    "- PERCEPTION BIAS PLAYS A ROLE"
   ]
  },
  {
   "cell_type": "markdown",
   "metadata": {
    "slideshow": {
     "slide_type": "skip"
    }
   },
   "source": [
    "# OTHER INTERESTING THINGS"
   ]
  },
  {
   "cell_type": "code",
   "execution_count": null,
   "metadata": {
    "slideshow": {
     "slide_type": "skip"
    }
   },
   "outputs": [],
   "source": [
    "# ======================================\n",
    "# MOST VALUABLE SUBURBS IN TERMS OF LAND\n",
    "# ======================================\n",
    "\n",
    "lv_data_201907.groupby(\"SUBURB NAME\").sum()[\"LAND VALUE 1\"].sort_values(ascending=False).head(10)"
   ]
  },
  {
   "cell_type": "code",
   "execution_count": null,
   "metadata": {
    "slideshow": {
     "slide_type": "skip"
    }
   },
   "outputs": [],
   "source": [
    "# =========\n",
    "# DOOF DOOF\n",
    "# =========\n",
    "\n",
    "pd.set_option(\"display.max_columns\", 50)\n",
    "penrith_data = NSW_crime_df[:][(NSW_crime_df[\"Subcategory\"].str.contains(\"ecstasy\") == True) & \\\n",
    "                               (NSW_crime_df[\"Suburb\"] == \"Penrith\")].sum()\n",
    "month_list = [\"Jan\", \"Feb\", \"Mar\", \"Apr\", \"May\", \"Jun\", \"Jul\", \"Aug\", \"Sep\", \"Oct\", \"Nov\", \"Dec\"]\n",
    "penrith_month_data = pd.DataFrame(list(range(12)))\n",
    "penrith_month_data.index = month_list\n",
    "\n",
    "penrith_data[penrith_data.index.str.contains(\"Mar\")].sum()\n",
    "\n",
    "for i in range(12):\n",
    "    penrith_month_data.loc[month_list[i], 0] = penrith_data[penrith_data.index.str.contains(penrith_month_data.index[i])].sum()\n"
   ]
  },
  {
   "cell_type": "code",
   "execution_count": null,
   "metadata": {
    "slideshow": {
     "slide_type": "slide"
    }
   },
   "outputs": [],
   "source": [
    "# =========\n",
    "# DOOF DOOF\n",
    "# =========\n",
    "\n",
    "penrith_month_data.plot.bar(legend=False)\n",
    "plt.xlabel(\"MONTH\")\n",
    "plt.ylabel(\"ECSTASY-RELATED CRIMES\")\n",
    "plt.title(\"TOTAL AMOUNT OF ECSTASY-RELATED CRIMES IN PENRITH SINCE JAN 1995 FOR EACH MONTH OF THE YEAR\")"
   ]
  },
  {
   "cell_type": "markdown",
   "metadata": {
    "slideshow": {
     "slide_type": "slide"
    }
   },
   "source": [
    "<center><h1>THANKS!</h1></center>"
   ]
  }
 ],
 "metadata": {
  "celltoolbar": "Slideshow",
  "kernelspec": {
   "display_name": "Python 3",
   "language": "python",
   "name": "python3"
  },
  "language_info": {
   "codemirror_mode": {
    "name": "ipython",
    "version": 3
   },
   "file_extension": ".py",
   "mimetype": "text/x-python",
   "name": "python",
   "nbconvert_exporter": "python",
   "pygments_lexer": "ipython3",
   "version": "3.7.3"
  }
 },
 "nbformat": 4,
 "nbformat_minor": 2
}
